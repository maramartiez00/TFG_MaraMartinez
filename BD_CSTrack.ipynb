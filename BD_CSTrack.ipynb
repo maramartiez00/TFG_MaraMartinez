{
 "cells": [
  {
   "cell_type": "markdown",
   "id": "b304b25e",
   "metadata": {},
   "source": [
    "## ANÁLISIS DE LA BASE DE DATOS DE CS TRACK"
   ]
  },
  {
   "cell_type": "markdown",
   "id": "9e942ef9",
   "metadata": {},
   "source": [
    "Este script pretende entender como está distribuida la base de datos proporcionada por CS Track. Analizar aspectos generales y familizarizarse con la BD."
   ]
  },
  {
   "cell_type": "markdown",
   "id": "62db6d96",
   "metadata": {},
   "source": [
    "### 0. Imports"
   ]
  },
  {
   "cell_type": "code",
   "execution_count": null,
   "id": "b6dd166a",
   "metadata": {},
   "outputs": [],
   "source": [
    "import math\n",
    "import numpy as np\n",
    "import json\n",
    "import pandas as pd"
   ]
  },
  {
   "cell_type": "markdown",
   "id": "a31d525c",
   "metadata": {},
   "source": [
    "### 1. Load BD"
   ]
  },
  {
   "cell_type": "code",
   "execution_count": null,
   "id": "b5bb912e",
   "metadata": {},
   "outputs": [],
   "source": [
    "data_path = './Data/CSTrack_projects_descriptors.json'\n",
    "\n",
    "with open(data_path, encoding=\"utf8\") as fp:\n",
    "    db = json.loads(fp.read())"
   ]
  },
  {
   "cell_type": "code",
   "execution_count": null,
   "id": "4d3db226",
   "metadata": {},
   "outputs": [],
   "source": [
    "data = pd.DataFrame(db)\n",
    "data.head()"
   ]
  },
  {
   "cell_type": "markdown",
   "id": "4961b458",
   "metadata": {},
   "source": [
    "### 2. General Information"
   ]
  },
  {
   "cell_type": "code",
   "execution_count": null,
   "id": "e9fa4b90",
   "metadata": {},
   "outputs": [],
   "source": [
    "print(\"Number of registers: \", len(data))\n",
    "print(\"Number of columns: \", len(data.columns))"
   ]
  },
  {
   "cell_type": "code",
   "execution_count": null,
   "id": "a8d4d550",
   "metadata": {},
   "outputs": [],
   "source": [
    "data.info()"
   ]
  },
  {
   "cell_type": "markdown",
   "id": "7f4efa4f",
   "metadata": {},
   "source": [
    "### 3. Insert Data_type column"
   ]
  },
  {
   "cell_type": "markdown",
   "id": "77b5d878",
   "metadata": {},
   "source": [
    "Se añade una nueva columna para indicar la estructura de los datos de la pàgina web de dosde se ha extraido cada registro de la base de datos."
   ]
  },
  {
   "cell_type": "code",
   "execution_count": null,
   "id": "31b2c285",
   "metadata": {},
   "outputs": [],
   "source": [
    "#Estos IDs han sido proporcionados por CS Track\n",
    "structured_id = ['3', '5', '17', '30', '38', '39', '68', '75', '80', '84']\n",
    "not_structured_id = ['1', '2', '16', '32', '33', '40', '41', '44', '45', '52', '55', '56', '57', '58', '59', '60', '61', '62', '74', '78', '79', '81', '82', '90', '94', '100', '106']\n",
    "semi_structured_id = ['4', '6', '9', '10', '13', '15', '21', '27', '31', '35', '36', '37', '42', '63', '66', '76', '77', '83', '87', '88', '91', '92', '103']\n",
    "\n",
    "df = data.copy()\n",
    "df['Data_type'] = np.nan\n",
    "\n",
    "for idx in range(len(df)):\n",
    "    if df['Plat Id'][idx] in structured_id:\n",
    "        df['Data_type'][idx] = 'structured'\n",
    "    if df['Plat Id'][idx] in not_structured_id:\n",
    "        df['Data_type'][idx] = 'not-structured'\n",
    "    if df['Plat Id'][idx] in semi_structured_id:\n",
    "        df['Data_type'][idx] = 'semi-structured'\n",
    "\n",
    "df.head()"
   ]
  },
  {
   "cell_type": "markdown",
   "id": "cf35c136",
   "metadata": {},
   "source": [
    "#### 3.1. Analyze Data_type column"
   ]
  },
  {
   "cell_type": "code",
   "execution_count": null,
   "id": "ee9ebe2f",
   "metadata": {},
   "outputs": [],
   "source": [
    "n=df['Data_type'].value_counts()['semi-structured'] + df['Data_type'].value_counts()['not-structured'] + df['Data_type'].value_counts()['structured']\n",
    "semi_struct = (df['Data_type'].value_counts()['semi-structured'] / n)*100\n",
    "non_struct = (df['Data_type'].value_counts()['not-structured'] / n)*100\n",
    "struct = (df['Data_type'].value_counts()['structured'] / n)*100\n",
    "\n",
    "print(\"Defined Data_type =\", n)\n",
    "print('Not structured data = ' + str(round(non_struct, 2)) + '%')\n",
    "print('Semi-structured data = ' + str(round(semi_struct, 2)) +'%')\n",
    "print('Not structured data = ' + str(round(struct, 2)) + '%')"
   ]
  },
  {
   "cell_type": "code",
   "execution_count": null,
   "id": "6e1e527b",
   "metadata": {},
   "outputs": [],
   "source": []
  },
  {
   "cell_type": "code",
   "execution_count": null,
   "id": "50236318",
   "metadata": {},
   "outputs": [],
   "source": [
    "df.to_csv('BD_CsTrack.csv', index = False, sep=';', encoding='utf-8')"
   ]
  },
  {
   "cell_type": "code",
   "execution_count": null,
   "id": "8f50371e",
   "metadata": {},
   "outputs": [],
   "source": []
  }
 ],
 "metadata": {
  "kernelspec": {
   "display_name": "Python 3",
   "language": "python",
   "name": "python3"
  },
  "language_info": {
   "codemirror_mode": {
    "name": "ipython",
    "version": 3
   },
   "file_extension": ".py",
   "mimetype": "text/x-python",
   "name": "python",
   "nbconvert_exporter": "python",
   "pygments_lexer": "ipython3",
   "version": "3.8.8"
  }
 },
 "nbformat": 4,
 "nbformat_minor": 5
}
